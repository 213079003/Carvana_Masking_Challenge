{
 "cells": [
  {
   "cell_type": "code",
   "execution_count": 1,
   "id": "a6ed0b23",
   "metadata": {
    "_cell_guid": "b1076dfc-b9ad-4769-8c92-a6c4dae69d19",
    "_uuid": "8f2839f25d086af736a60e9eeb907d3b93b6e0e5",
    "execution": {
     "iopub.execute_input": "2023-08-13T12:00:14.341574Z",
     "iopub.status.busy": "2023-08-13T12:00:14.340895Z",
     "iopub.status.idle": "2023-08-13T12:00:14.354401Z",
     "shell.execute_reply": "2023-08-13T12:00:14.353551Z"
    },
    "papermill": {
     "duration": 0.024114,
     "end_time": "2023-08-13T12:00:14.356616",
     "exception": false,
     "start_time": "2023-08-13T12:00:14.332502",
     "status": "completed"
    },
    "tags": []
   },
   "outputs": [
    {
     "name": "stdout",
     "output_type": "stream",
     "text": [
      "/kaggle/input/carvana-image-masking-challenge/train_masks.zip\n",
      "/kaggle/input/carvana-image-masking-challenge/29bb3ece3180_11.jpg\n",
      "/kaggle/input/carvana-image-masking-challenge/train_masks.csv.zip\n",
      "/kaggle/input/carvana-image-masking-challenge/train.zip\n",
      "/kaggle/input/carvana-image-masking-challenge/metadata.csv.zip\n",
      "/kaggle/input/carvana-image-masking-challenge/sample_submission.csv.zip\n",
      "/kaggle/input/carvana-image-masking-challenge/test.zip\n",
      "/kaggle/input/carvana-image-masking-challenge/test_hq.zip\n",
      "/kaggle/input/carvana-image-masking-challenge/train_hq.zip\n"
     ]
    }
   ],
   "source": [
    "import os\n",
    "for dirname, _, filenames in os.walk('/kaggle/input'):\n",
    "    for filename in filenames:\n",
    "        print(os.path.join(dirname, filename))"
   ]
  },
  {
   "cell_type": "markdown",
   "id": "7ab61d2e",
   "metadata": {
    "papermill": {
     "duration": 0.006446,
     "end_time": "2023-08-13T12:00:14.369534",
     "exception": false,
     "start_time": "2023-08-13T12:00:14.363088",
     "status": "completed"
    },
    "tags": []
   },
   "source": [
    "# Importing Libraries"
   ]
  },
  {
   "cell_type": "code",
   "execution_count": 2,
   "id": "55365c52",
   "metadata": {
    "execution": {
     "iopub.execute_input": "2023-08-13T12:00:14.383399Z",
     "iopub.status.busy": "2023-08-13T12:00:14.382779Z",
     "iopub.status.idle": "2023-08-13T12:00:21.351317Z",
     "shell.execute_reply": "2023-08-13T12:00:21.350145Z"
    },
    "papermill": {
     "duration": 6.978542,
     "end_time": "2023-08-13T12:00:21.354274",
     "exception": false,
     "start_time": "2023-08-13T12:00:14.375732",
     "status": "completed"
    },
    "tags": []
   },
   "outputs": [
    {
     "name": "stderr",
     "output_type": "stream",
     "text": [
      "/opt/conda/lib/python3.10/site-packages/scipy/__init__.py:146: UserWarning: A NumPy version >=1.16.5 and <1.23.0 is required for this version of SciPy (detected version 1.23.5\n",
      "  warnings.warn(f\"A NumPy version >={np_minversion} and <{np_maxversion}\"\n"
     ]
    }
   ],
   "source": [
    "#importing the required libraries\n",
    "import os\n",
    "from PIL import Image\n",
    "import numpy as np\n",
    "import pandas as pd \n",
    "import cv2\n",
    "import matplotlib.pyplot as plt\n",
    "\n",
    "from glob import glob\n",
    "import zipfile\n",
    "import shutil\n",
    "\n",
    "import torch\n",
    "import torch.nn as nn\n",
    "import torchvision\n",
    "import torchvision.transforms.functional as TF\n",
    "from torch.utils.data import Dataset, DataLoader\n",
    "import torch.optim as optim\n",
    "\n",
    "from tqdm import tqdm\n",
    "import albumentations as A\n",
    "from albumentations.pytorch import ToTensorV2"
   ]
  },
  {
   "cell_type": "markdown",
   "id": "2ada9d63",
   "metadata": {
    "papermill": {
     "duration": 0.006572,
     "end_time": "2023-08-13T12:00:21.368879",
     "exception": false,
     "start_time": "2023-08-13T12:00:21.362307",
     "status": "completed"
    },
    "tags": []
   },
   "source": [
    "# Data Processing"
   ]
  },
  {
   "cell_type": "code",
   "execution_count": 3,
   "id": "eda3ef82",
   "metadata": {
    "execution": {
     "iopub.execute_input": "2023-08-13T12:00:21.385363Z",
     "iopub.status.busy": "2023-08-13T12:00:21.383728Z",
     "iopub.status.idle": "2023-08-13T12:00:30.587487Z",
     "shell.execute_reply": "2023-08-13T12:00:30.586347Z"
    },
    "papermill": {
     "duration": 9.214577,
     "end_time": "2023-08-13T12:00:30.590284",
     "exception": false,
     "start_time": "2023-08-13T12:00:21.375707",
     "status": "completed"
    },
    "tags": []
   },
   "outputs": [],
   "source": [
    "# Extracting the data \n",
    "path_to_zip_file = \"/kaggle/input/carvana-image-masking-challenge/train.zip\"\n",
    "directory_to_extract_to = \"/kaggle/working/\"\n",
    "with zipfile.ZipFile(path_to_zip_file, 'r') as zip_ref:\n",
    "    zip_ref.extractall(directory_to_extract_to)\n",
    "    \n",
    "path_to_zip_file = \"/kaggle/input/carvana-image-masking-challenge/train_masks.zip\"\n",
    "directory_to_extract_to = \"/kaggle/working/\"\n",
    "with zipfile.ZipFile(path_to_zip_file, 'r') as zip_ref:\n",
    "    zip_ref.extractall(directory_to_extract_to)"
   ]
  },
  {
   "cell_type": "code",
   "execution_count": 4,
   "id": "f2643fdd",
   "metadata": {
    "execution": {
     "iopub.execute_input": "2023-08-13T12:00:30.605989Z",
     "iopub.status.busy": "2023-08-13T12:00:30.605676Z",
     "iopub.status.idle": "2023-08-13T12:00:30.759960Z",
     "shell.execute_reply": "2023-08-13T12:00:30.758942Z"
    },
    "papermill": {
     "duration": 0.164479,
     "end_time": "2023-08-13T12:00:30.762132",
     "exception": false,
     "start_time": "2023-08-13T12:00:30.597653",
     "status": "completed"
    },
    "tags": []
   },
   "outputs": [],
   "source": [
    "#Preparing the train and val datasets\n",
    "os.mkdir('/kaggle/working/val')\n",
    "os.mkdir('/kaggle/working/val_masks')\n",
    "\n",
    "#taking the first 1520 train images as val images\n",
    "for file in sorted(os.listdir('/kaggle/working/train'))[:1520]:\n",
    "  shutil.move('/kaggle/working/train/' + file, '/kaggle/working/val')\n",
    "\n",
    "for file in sorted(os.listdir('/kaggle/working/train_masks'))[:1520]:\n",
    "  shutil.move('/kaggle/working/train_masks/' + file, '/kaggle/working/val_masks')"
   ]
  },
  {
   "cell_type": "code",
   "execution_count": 5,
   "id": "3e5be749",
   "metadata": {
    "execution": {
     "iopub.execute_input": "2023-08-13T12:00:30.779290Z",
     "iopub.status.busy": "2023-08-13T12:00:30.777573Z",
     "iopub.status.idle": "2023-08-13T12:00:30.796050Z",
     "shell.execute_reply": "2023-08-13T12:00:30.794669Z"
    },
    "papermill": {
     "duration": 0.028866,
     "end_time": "2023-08-13T12:00:30.798077",
     "exception": false,
     "start_time": "2023-08-13T12:00:30.769211",
     "status": "completed"
    },
    "tags": []
   },
   "outputs": [
    {
     "name": "stdout",
     "output_type": "stream",
     "text": [
      "No: of Train images: 3568\n",
      "No: of Train masks: 3568\n",
      "No: of Val images: 1520\n",
      "No: of Val masks: 1520\n"
     ]
    }
   ],
   "source": [
    "train_img_path = ['/kaggle/working/train/' + i for i in sorted(os.listdir('/kaggle/working/train'))]\n",
    "train_mask_path = ['/kaggle/working/train_masks/' + i for i in sorted(os.listdir('/kaggle/working/train_masks'))]\n",
    "val_img_path = ['/kaggle/working/val/' + i for i in sorted(os.listdir('/kaggle/working/val'))]\n",
    "val_mask_path = ['/kaggle/working/val_masks/' + i for i in sorted(os.listdir('/kaggle/working/val_masks'))]\n",
    "\n",
    "print(\"No: of Train images:\", len(train_img_path))\n",
    "print(\"No: of Train masks:\", len(train_mask_path))\n",
    "print(\"No: of Val images:\", len(val_img_path))\n",
    "print(\"No: of Val masks:\", len(val_mask_path))"
   ]
  },
  {
   "cell_type": "code",
   "execution_count": 6,
   "id": "b3027c20",
   "metadata": {
    "execution": {
     "iopub.execute_input": "2023-08-13T12:00:30.812205Z",
     "iopub.status.busy": "2023-08-13T12:00:30.811942Z",
     "iopub.status.idle": "2023-08-13T12:00:30.816273Z",
     "shell.execute_reply": "2023-08-13T12:00:30.815310Z"
    },
    "papermill": {
     "duration": 0.013813,
     "end_time": "2023-08-13T12:00:30.818434",
     "exception": false,
     "start_time": "2023-08-13T12:00:30.804621",
     "status": "completed"
    },
    "tags": []
   },
   "outputs": [],
   "source": [
    "os.mkdir('/kaggle/working/saved_images')\n",
    "#folder for saving the predicted masks"
   ]
  },
  {
   "cell_type": "markdown",
   "id": "09d5091a",
   "metadata": {
    "papermill": {
     "duration": 0.006386,
     "end_time": "2023-08-13T12:00:30.831784",
     "exception": false,
     "start_time": "2023-08-13T12:00:30.825398",
     "status": "completed"
    },
    "tags": []
   },
   "source": [
    "# Visualizing a Image along with its Mask"
   ]
  },
  {
   "cell_type": "code",
   "execution_count": 7,
   "id": "07e29503",
   "metadata": {
    "execution": {
     "iopub.execute_input": "2023-08-13T12:00:30.846117Z",
     "iopub.status.busy": "2023-08-13T12:00:30.845847Z",
     "iopub.status.idle": "2023-08-13T12:00:31.923667Z",
     "shell.execute_reply": "2023-08-13T12:00:31.922672Z"
    },
    "papermill": {
     "duration": 1.087933,
     "end_time": "2023-08-13T12:00:31.926482",
     "exception": false,
     "start_time": "2023-08-13T12:00:30.838549",
     "status": "completed"
    },
    "tags": []
   },
   "outputs": [
    {
     "name": "stdout",
     "output_type": "stream",
     "text": [
      "Image shape: (1280, 1918, 3) | image type: uint8 | mask shape: (1280, 1918) | mask type: uint8\n"
     ]
    },
    {
     "data": {
      "image/png": "[encoded data removed]",
      "text/plain": [
       "<Figure size 1000x1000 with 3 Axes>"
      ]
     },
     "metadata": {},
     "output_type": "display_data"
    }
   ],
   "source": [
    "#Show a random car with its mask\n",
    "k = int(np.ceil(np.random.random()*len(train_img_path)))\n",
    "\n",
    "img = cv2.imread(train_img_path[k])\n",
    "img = cv2.cvtColor(img, cv2.COLOR_BGR2RGB)\n",
    "\n",
    "mask = np.asarray(Image.open(train_mask_path[k]))\n",
    "img_masked = cv2.bitwise_and(img, img, mask=mask)\n",
    "\n",
    "print(\"Image shape: {} | image type: {} | mask shape: {} | mask type: {}\".format(img.shape, img.dtype, mask.shape, mask.dtype))\n",
    "\n",
    "#plotting\n",
    "fig = plt.figure(figsize=(10,10))\n",
    "plt.subplot(131)\n",
    "plt.imshow(img)\n",
    "#remove ticks for pictures\n",
    "plt.xticks([])\n",
    "plt.yticks([])\n",
    "plt.title(\"Original\")\n",
    "\n",
    "plt.subplot(132)\n",
    "plt.imshow(mask)\n",
    "#remove ticks for pictures\n",
    "plt.xticks([])\n",
    "plt.yticks([])\n",
    "plt.title(\"Mask\")\n",
    "\n",
    "plt.subplot(133)\n",
    "plt.imshow(img_masked)\n",
    "#remove ticks for pictures\n",
    "plt.xticks([])\n",
    "plt.yticks([])\n",
    "plt.title(\"Original + Mask\")\n",
    "\n",
    "plt.show()"
   ]
  },
  {
   "cell_type": "markdown",
   "id": "77f51d6d",
   "metadata": {
    "papermill": {
     "duration": 0.014194,
     "end_time": "2023-08-13T12:00:31.949937",
     "exception": false,
     "start_time": "2023-08-13T12:00:31.935743",
     "status": "completed"
    },
    "tags": []
   },
   "source": [
    "# Take a look at the image masks"
   ]
  },
  {
   "cell_type": "code",
   "execution_count": 8,
   "id": "b62e2d03",
   "metadata": {
    "execution": {
     "iopub.execute_input": "2023-08-13T12:00:31.969217Z",
     "iopub.status.busy": "2023-08-13T12:00:31.968885Z",
     "iopub.status.idle": "2023-08-13T12:00:33.101306Z",
     "shell.execute_reply": "2023-08-13T12:00:33.100287Z"
    },
    "papermill": {
     "duration": 1.1445,
     "end_time": "2023-08-13T12:00:33.103550",
     "exception": false,
     "start_time": "2023-08-13T12:00:31.959050",
     "status": "completed"
    },
    "tags": []
   },
   "outputs": [
    {
     "name": "stdout",
     "output_type": "stream",
     "text": [
      "0.2008504953076121\n"
     ]
    },
    {
     "data": {
      "text/plain": [
       "([], [])"
      ]
     },
     "execution_count": 8,
     "metadata": {},
     "output_type": "execute_result"
    },
    {
     "data": {
      "image/png": "[encoded data removed]",
      "text/plain": [
       "<Figure size 640x480 with 1 Axes>"
      ]
     },
     "metadata": {},
     "output_type": "display_data"
    }
   ],
   "source": [
    "#select any random train image and its corresponding mask\n",
    "k = int(np.ceil(np.random.random()*len(train_img_path)))\n",
    "\n",
    "img = cv2.imread(train_img_path[k])\n",
    "img = cv2.cvtColor(img, cv2.COLOR_BGR2RGB)\n",
    "\n",
    "mask = np.asarray(Image.open(train_mask_path[k]))\n",
    "\n",
    "area = mask.shape[0] *mask.shape[1] \n",
    "masked = sum(map(sum, mask))\n",
    "print(masked/area) #see the area of mask in the whole image\n",
    "\n",
    "plt.imshow(mask)\n",
    "plt.xticks([])\n",
    "plt.yticks([])"
   ]
  },
  {
   "cell_type": "markdown",
   "id": "d8bd8da6",
   "metadata": {
    "papermill": {
     "duration": 0.007858,
     "end_time": "2023-08-13T12:00:33.119686",
     "exception": false,
     "start_time": "2023-08-13T12:00:33.111828",
     "status": "completed"
    },
    "tags": []
   },
   "source": [
    "Clearly the masked area is only 20% percent of the picture while the rest is background. quite an surprising finding looking at the picture itself."
   ]
  },
  {
   "cell_type": "code",
   "execution_count": 9,
   "id": "b03b532d",
   "metadata": {
    "execution": {
     "iopub.execute_input": "2023-08-13T12:00:33.138161Z",
     "iopub.status.busy": "2023-08-13T12:00:33.136444Z",
     "iopub.status.idle": "2023-08-13T12:44:47.365113Z",
     "shell.execute_reply": "2023-08-13T12:44:47.364118Z"
    },
    "papermill": {
     "duration": 2654.247596,
     "end_time": "2023-08-13T12:44:47.375171",
     "exception": false,
     "start_time": "2023-08-13T12:00:33.127575",
     "status": "completed"
    },
    "tags": []
   },
   "outputs": [
    {
     "name": "stdout",
     "output_type": "stream",
     "text": [
      "The masked area on average represents 21.28% of the picture.\n"
     ]
    }
   ],
   "source": [
    "#Let's look at the whole train set of masks:\n",
    "\n",
    "def calculate_mask_background_ratio(mask):\n",
    "    masked_area = sum(map(sum, mask))\n",
    "    return masked_area/(mask.shape[0] *mask.shape[1])\n",
    "\n",
    "all_masks = []\n",
    "for path in train_mask_path:\n",
    "    mask = np.asarray(Image.open(path))\n",
    "    all_masks.append(mask) \n",
    "masks_ratio = [calculate_mask_background_ratio(mask) for mask in all_masks]\n",
    "\n",
    "print('The masked area on average represents {:.2f}% of the picture.'.format(100*np.mean(masks_ratio)))"
   ]
  },
  {
   "cell_type": "markdown",
   "id": "8fba87bf",
   "metadata": {
    "papermill": {
     "duration": 0.007553,
     "end_time": "2023-08-13T12:44:47.390708",
     "exception": false,
     "start_time": "2023-08-13T12:44:47.383155",
     "status": "completed"
    },
    "tags": []
   },
   "source": [
    "The masked area of the train masks on average represents 21.28% of the train image."
   ]
  },
  {
   "cell_type": "markdown",
   "id": "311ea6e8",
   "metadata": {
    "papermill": {
     "duration": 0.008634,
     "end_time": "2023-08-13T12:44:47.407152",
     "exception": false,
     "start_time": "2023-08-13T12:44:47.398518",
     "status": "completed"
    },
    "tags": []
   },
   "source": [
    "# UNET Model"
   ]
  },
  {
   "cell_type": "code",
   "execution_count": 10,
   "id": "519c91c1",
   "metadata": {
    "execution": {
     "iopub.execute_input": "2023-08-13T12:44:47.424010Z",
     "iopub.status.busy": "2023-08-13T12:44:47.423706Z",
     "iopub.status.idle": "2023-08-13T12:44:50.197784Z",
     "shell.execute_reply": "2023-08-13T12:44:50.196131Z"
    },
    "papermill": {
     "duration": 2.785213,
     "end_time": "2023-08-13T12:44:50.200108",
     "exception": false,
     "start_time": "2023-08-13T12:44:47.414895",
     "status": "completed"
    },
    "tags": []
   },
   "outputs": [
    {
     "name": "stderr",
     "output_type": "stream",
     "text": [
      "/opt/conda/lib/python3.10/site-packages/torchvision/transforms/functional.py:1603: UserWarning: The default value of the antialias parameter of all the resizing transforms (Resize(), RandomResizedCrop(), etc.) will change from None to True in v0.17, in order to be consistent across the PIL and Tensor backends. To suppress this warning, directly pass antialias=True (recommended, future default), antialias=None (current default, which means False for Tensors and True for PIL), or antialias=False (only works on Tensors - PIL will still use antialiasing). This also applies if you are using the inference transforms from the models weights: update the call to weights.transforms(antialias=True).\n",
      "  warnings.warn(\n"
     ]
    },
    {
     "name": "stdout",
     "output_type": "stream",
     "text": [
      "torch.Size([3, 1, 161, 161])\n",
      "torch.Size([3, 1, 161, 161])\n"
     ]
    }
   ],
   "source": [
    "class DoubleConv(nn.Module): #class for 2 conv layers\n",
    "  def __init__(self, in_channels, out_channels):#input is passed through 2 conv layers in the architecture\n",
    "    super(DoubleConv, self).__init__()\n",
    "    self.conv = nn.Sequential(\n",
    "        nn.Conv2d(in_channels, out_channels, 3, 1, 1, bias=False), #3x3 conv\n",
    "        nn.BatchNorm2d(out_channels),\n",
    "        nn.ReLU(inplace=True),\n",
    "        nn.Conv2d(out_channels, out_channels, 3, 1, 1, bias=False),\n",
    "        nn.BatchNorm2d(out_channels),\n",
    "        nn.ReLU(inplace=True),\n",
    "    )\n",
    "\n",
    "  def forward(self, x):\n",
    "    return self.conv(x)\n",
    "\n",
    "class UNET(nn.Module):\n",
    "  def __init__(\n",
    "      self, in_channels=3, out_channels=1, features=[64,128,256,512],\n",
    "  ):\n",
    "\n",
    "    super(UNET, self).__init__()\n",
    "    self.ups = nn.ModuleList()    # list to save the conv layers in decoder part\n",
    "    self.downs = nn.ModuleList()  # list to save the conv layers in encoder part\n",
    "    self.pool = nn.MaxPool2d(kernel_size=2, stride=2)\n",
    "\n",
    "    #------------Down/Encoder part of UNET\n",
    "    for feature in features:\n",
    "      self.downs.append(DoubleConv(in_channels, feature))\n",
    "      in_channels = feature\n",
    "    # So self.downs =[DoubleConv(3,64),DoubleConv(64,128),DoubleConv(128,256),DoubleConv(256,512) ]\n",
    "\n",
    "    #------------bottleneck part where DoubleConv(512,1024) happens\n",
    "    self.bottleneck = DoubleConv(features[-1], features[-1]*2)\n",
    "\n",
    "     #-------------Up/Decoder part of UNET\n",
    "    for feature in reversed(features):\n",
    "      self.ups.append(nn.ConvTranspose2d(feature*2, feature, kernel_size=2, stride=2,))\n",
    "\n",
    "      self.ups.append(DoubleConv(feature*2, feature))\n",
    "\n",
    "        #So self.ups =[ConvTranspose2d(1024,512),DoubleConv(1024,512),\n",
    "        #            ConvTranspose2d(512,256),DoubleConv(512,256),\n",
    "        #           ConvTranspose2d(256,128),DoubleConv(256,128),\n",
    "        #            ConvTranspose2d(128,64),DoubleConv(128,64)]\n",
    "    \n",
    "    #----final conv layer to get the o/p segmentation map with channels 1 for carvana segmentation\n",
    "    self.final_conv = nn.Conv2d(features[0], out_channels, kernel_size=1)\n",
    "\n",
    "  def forward(self, x):\n",
    "    skip_connections = []\n",
    "\n",
    "    for down in self.downs:\n",
    "      x = down(x)\n",
    "      skip_connections.append(x) # storing the resultant after double conv so that we can add them in decoder part\n",
    "      x = self.pool(x) #pooling\n",
    "\n",
    "    x = self.bottleneck(x)\n",
    "\n",
    "    #We have skip_connections=resultant of [DoubleConv(3,64),DoubleConv(64,128),DoubleConv(128,256),DoubleConv(256,512)]\n",
    "    #we need to add these from last i.e, DoubleConv(256,512) layer is added to the 1st upconv layer(1024)\n",
    "    # so we reverse skip_connections\n",
    "    skip_connections = skip_connections[::-1]\n",
    "\n",
    "    for idx in range(0, len(self.ups),2):\n",
    "      x = self.ups[idx](x) #perform ConvTranspose2d\n",
    "      skip_connection = skip_connections[idx//2]\n",
    "\n",
    "      if x.shape != skip_connection.shape: #if i/p:161x161-->80x80 and up part makes it 160x160 which are not equal\n",
    "        x = TF.resize(x, size=skip_connection.shape[2:])\n",
    "\n",
    "      concat_skip = torch.cat((skip_connection, x), dim=1)#adding the skip connections\n",
    "      x = self.ups[idx+1](concat_skip)#perform DoubleConv\n",
    "\n",
    "    return self.final_conv(x)\n",
    "\n",
    "def test():\n",
    "  x = torch.rand((3,1,161,161))\n",
    "  model = UNET(in_channels=1, out_channels=1)\n",
    "  preds = model(x)\n",
    "  print(preds.shape)\n",
    "  print(x.shape)\n",
    "  assert preds.shape == x.shape\n",
    "\n",
    "\n",
    "if __name__ == '__main__':\n",
    "  test()\n",
    "\n"
   ]
  },
  {
   "cell_type": "markdown",
   "id": "4b9b45f3",
   "metadata": {
    "papermill": {
     "duration": 0.008485,
     "end_time": "2023-08-13T12:44:50.217698",
     "exception": false,
     "start_time": "2023-08-13T12:44:50.209213",
     "status": "completed"
    },
    "tags": []
   },
   "source": [
    "# Prepare Data"
   ]
  },
  {
   "cell_type": "code",
   "execution_count": 11,
   "id": "097a4431",
   "metadata": {
    "execution": {
     "iopub.execute_input": "2023-08-13T12:44:50.236826Z",
     "iopub.status.busy": "2023-08-13T12:44:50.236509Z",
     "iopub.status.idle": "2023-08-13T12:44:50.245706Z",
     "shell.execute_reply": "2023-08-13T12:44:50.244537Z"
    },
    "papermill": {
     "duration": 0.021265,
     "end_time": "2023-08-13T12:44:50.247926",
     "exception": false,
     "start_time": "2023-08-13T12:44:50.226661",
     "status": "completed"
    },
    "tags": []
   },
   "outputs": [],
   "source": [
    "class CarvanaDataset(Dataset):\n",
    "  def __init__(self, image_dir, mask_dir, transform=None):\n",
    "    self.image_dir = image_dir #path of images(i/p)\n",
    "    self.mask_dir  = mask_dir  #path of masks(target)\n",
    "    self.transform = transform #applying transform\n",
    "    self.images = os.listdir(image_dir)\n",
    "\n",
    "  def __len__(self):\n",
    "    return len(self.images)\n",
    "\n",
    "  def __getitem__(self, index):\n",
    "    img_path = os.path.join(self.image_dir, self.images[index])\n",
    "    #training set masks are in .gif format..so convert then into .jpg\n",
    "    mask_path = os.path.join(self.mask_dir, self.images[index]).replace(\".jpg\", \"_mask.gif\")\n",
    "    \n",
    "    image = np.array(Image.open(img_path).convert(\"RGB\"))\n",
    "    mask = np.array(Image.open(mask_path).convert(\"L\"), dtype=np.float32)\n",
    "    mask[mask == 255.0] = 1.0\n",
    "\n",
    "    if self.transform is not None:\n",
    "      augmentations = self.transform(image=image, mask=mask)\n",
    "      image = augmentations[\"image\"]\n",
    "      mask = augmentations[\"mask\"]\n",
    "\n",
    "    return image, mask\n",
    "\n"
   ]
  },
  {
   "cell_type": "markdown",
   "id": "a766bd0a",
   "metadata": {
    "papermill": {
     "duration": 0.00802,
     "end_time": "2023-08-13T12:44:50.264313",
     "exception": false,
     "start_time": "2023-08-13T12:44:50.256293",
     "status": "completed"
    },
    "tags": []
   },
   "source": [
    "# Training the Model"
   ]
  },
  {
   "cell_type": "code",
   "execution_count": 12,
   "id": "f7aebb25",
   "metadata": {
    "execution": {
     "iopub.execute_input": "2023-08-13T12:44:50.282908Z",
     "iopub.status.busy": "2023-08-13T12:44:50.282556Z",
     "iopub.status.idle": "2023-08-13T12:44:50.405675Z",
     "shell.execute_reply": "2023-08-13T12:44:50.404722Z"
    },
    "papermill": {
     "duration": 0.134963,
     "end_time": "2023-08-13T12:44:50.407787",
     "exception": false,
     "start_time": "2023-08-13T12:44:50.272824",
     "status": "completed"
    },
    "tags": []
   },
   "outputs": [],
   "source": [
    "# Hyperparameters\n",
    "LEARNING_RATE = 1e-4\n",
    "DEVICE = \"cuda\" if torch.cuda.is_available() else \"cpu\"\n",
    "BATCH_SIZE = 8\n",
    "NUM_EPOCHS = 3\n",
    "NUM_WORKERS = 2\n",
    "IMAGE_HEIGHT = 320\n",
    "IMAGE_WIDTH = 480\n",
    "PIN_MEMORY = True\n",
    "LOAD_MODEL = False\n",
    "TRAIN_IMG_DIR = '/kaggle/working/train'\n",
    "TRAIN_MASK_DIR = '/kaggle/working/train_masks'\n",
    "VAL_IMG_DIR = '/kaggle/working/val'\n",
    "VAL_MASK_DIR = '/kaggle/working/val_masks'"
   ]
  },
  {
   "cell_type": "code",
   "execution_count": 13,
   "id": "4ef7df44",
   "metadata": {
    "execution": {
     "iopub.execute_input": "2023-08-13T12:44:50.426556Z",
     "iopub.status.busy": "2023-08-13T12:44:50.426200Z",
     "iopub.status.idle": "2023-08-13T12:44:50.440877Z",
     "shell.execute_reply": "2023-08-13T12:44:50.439791Z"
    },
    "papermill": {
     "duration": 0.027106,
     "end_time": "2023-08-13T12:44:50.443406",
     "exception": false,
     "start_time": "2023-08-13T12:44:50.416300",
     "status": "completed"
    },
    "tags": []
   },
   "outputs": [],
   "source": [
    "def save_checkpoint(state, filename=\"my_checkpoint.pth.tar\"):\n",
    "  print(\"=> Saving Checkpoint\")\n",
    "  torch.save(state, filename)\n",
    "\n",
    "def load_checkpoint(checkpoint, model):\n",
    "  print(\"=> Loading Checkpoint\")\n",
    "  model.load_state_dict(checkpoint[\"state_dict\"])\n",
    "\n",
    "def get_loaders(\n",
    "    train_dir,\n",
    "    train_maskdir,\n",
    "    val_dir,\n",
    "    val_maskdir,\n",
    "    batch_size,\n",
    "    train_transform,\n",
    "    val_transform,\n",
    "    num_workers=4,\n",
    "    pin_memory=True\n",
    "):\n",
    "  train_ds = CarvanaDataset(\n",
    "      image_dir=train_dir,\n",
    "      mask_dir=train_maskdir,\n",
    "      transform=train_transform,\n",
    "  )\n",
    "\n",
    "  train_loader = DataLoader(\n",
    "      train_ds,\n",
    "      batch_size=batch_size,\n",
    "      num_workers=num_workers,\n",
    "      pin_memory=pin_memory,\n",
    "      shuffle=True,\n",
    "  )\n",
    "\n",
    "  val_ds = CarvanaDataset(\n",
    "      image_dir=val_dir,\n",
    "      mask_dir=val_maskdir,\n",
    "      transform=val_transform,\n",
    "\n",
    "  )\n",
    "\n",
    "  val_loader = DataLoader(\n",
    "      val_ds,\n",
    "      batch_size=batch_size,\n",
    "      num_workers=num_workers,\n",
    "      pin_memory=pin_memory,\n",
    "      shuffle=False,\n",
    "  )\n",
    "\n",
    "  return train_loader, val_loader\n",
    "\n",
    "def check_accuracy(loader, model, device=\"cuda\"):\n",
    "  num_correct = 0\n",
    "  num_pixels = 0\n",
    "  model.eval()\n",
    "  dice_score=0.0\n",
    "    \n",
    "  with torch.no_grad():\n",
    "    for x, y in loader:\n",
    "      x = x.to(device)\n",
    "      y = y.to(device).unsqueeze(1)\n",
    "      preds = torch.sigmoid(model(x))\n",
    "      preds = (preds > 0.5).float()\n",
    "      num_correct += (preds == y).sum()\n",
    "      num_pixels += torch.numel(preds)\n",
    "      dice_score += (2* (preds*y).sum()) / (\n",
    "          (preds + y).sum() + 1e-8\n",
    "      )\n",
    "\n",
    "    print(\n",
    "        f\"Got {num_correct}/{num_pixels} with acc {num_correct/num_pixels*100:.2f}\"\n",
    "    )\n",
    "\n",
    "    print(f\"Dice Score: {dice_score/len(loader)}\")\n",
    "\n",
    "    model.train()\n",
    "\n",
    "\n",
    "def save_predictions_as_imgs(\n",
    "    loader, model, folder=\"saved_images/\", device=\"cuda\"\n",
    "):\n",
    "    model.eval()\n",
    "    for idx, (x, y) in enumerate(loader):\n",
    "        x = x.to(device=device)\n",
    "        with torch.no_grad():\n",
    "            preds = torch.sigmoid(model(x))\n",
    "            preds = (preds > 0.5).float()\n",
    "        torchvision.utils.save_image(\n",
    "            preds, f\"{folder}/pred_{idx}.png\"\n",
    "        )\n",
    "        torchvision.utils.save_image(y.unsqueeze(1), f\"{folder}{idx}.png\")\n",
    "\n",
    "\n",
    "    torchvision.utils.save_image(y.unsqueeze(1), f\"{folder}{idx}.png\")\n",
    "\n"
   ]
  },
  {
   "cell_type": "code",
   "execution_count": 14,
   "id": "7f0db72b",
   "metadata": {
    "execution": {
     "iopub.execute_input": "2023-08-13T12:44:50.461862Z",
     "iopub.status.busy": "2023-08-13T12:44:50.461578Z",
     "iopub.status.idle": "2023-08-13T13:04:03.093720Z",
     "shell.execute_reply": "2023-08-13T13:04:03.091178Z"
    },
    "papermill": {
     "duration": 1152.647789,
     "end_time": "2023-08-13T13:04:03.099997",
     "exception": false,
     "start_time": "2023-08-13T12:44:50.452208",
     "status": "completed"
    },
    "tags": []
   },
   "outputs": [
    {
     "name": "stderr",
     "output_type": "stream",
     "text": [
      "100%|██████████| 446/446 [03:29<00:00,  2.13it/s, loss=0.0964]\n"
     ]
    },
    {
     "name": "stdout",
     "output_type": "stream",
     "text": [
      "=> Saving Checkpoint\n",
      "Got 228603605/233472000 with acc 97.91\n",
      "Dice Score: 0.9517869353294373\n"
     ]
    },
    {
     "name": "stderr",
     "output_type": "stream",
     "text": [
      "100%|██████████| 446/446 [03:14<00:00,  2.30it/s, loss=0.0279]\n"
     ]
    },
    {
     "name": "stdout",
     "output_type": "stream",
     "text": [
      "=> Saving Checkpoint\n",
      "Got 230923542/233472000 with acc 98.91\n",
      "Dice Score: 0.9737224578857422\n"
     ]
    },
    {
     "name": "stderr",
     "output_type": "stream",
     "text": [
      "100%|██████████| 446/446 [03:12<00:00,  2.31it/s, loss=0.0235]\n"
     ]
    },
    {
     "name": "stdout",
     "output_type": "stream",
     "text": [
      "=> Saving Checkpoint\n",
      "Got 231061901/233472000 with acc 98.97\n",
      "Dice Score: 0.9754621386528015\n"
     ]
    }
   ],
   "source": [
    "def train_fn(loader, model, optimizer, loss_fn, scaler):\n",
    "    loop = tqdm(loader)\n",
    "\n",
    "    for batch_idx, (data, targets) in enumerate(loop):\n",
    "        data = data.to(device=DEVICE)\n",
    "        targets = targets.float().unsqueeze(1).to(device=DEVICE)\n",
    "\n",
    "        # forward\n",
    "        with torch.cuda.amp.autocast():\n",
    "            predictions = model(data)\n",
    "            loss = loss_fn(predictions, targets)\n",
    "\n",
    "        # backward\n",
    "        optimizer.zero_grad()\n",
    "        scaler.scale(loss).backward()\n",
    "        scaler.step(optimizer)\n",
    "        scaler.update()\n",
    "\n",
    "        # update tqdm loop\n",
    "        loop.set_postfix(loss=loss.item())\n",
    "\n",
    "\n",
    "def main():\n",
    "    train_transform = A.Compose(\n",
    "        [\n",
    "            A.Resize(height=IMAGE_HEIGHT, width=IMAGE_WIDTH),\n",
    "            A.Rotate(limit=35, p=1.0),\n",
    "            A.HorizontalFlip(p=0.5),\n",
    "            A.VerticalFlip(p=0.1),\n",
    "            A.Normalize(\n",
    "                mean=[0.0, 0.0, 0.0],\n",
    "                std=[1.0, 1.0, 1.0],\n",
    "                max_pixel_value=255.0,\n",
    "            ),\n",
    "            ToTensorV2(),\n",
    "        ],\n",
    "    )\n",
    "\n",
    "    val_transforms = A.Compose(\n",
    "        [\n",
    "            A.Resize(height=IMAGE_HEIGHT, width=IMAGE_WIDTH),\n",
    "            A.Normalize(\n",
    "                mean=[0.0, 0.0, 0.0],\n",
    "                std=[1.0, 1.0, 1.0],\n",
    "                max_pixel_value=255.0,\n",
    "            ),\n",
    "            ToTensorV2(),\n",
    "        ],\n",
    "    )\n",
    "\n",
    "    model = UNET(in_channels=3, out_channels=1).to(DEVICE)\n",
    "    loss_fn = nn.BCEWithLogitsLoss()\n",
    "    optimizer = optim.Adam(model.parameters(), lr=LEARNING_RATE)\n",
    "\n",
    "    train_loader, val_loader = get_loaders(\n",
    "        TRAIN_IMG_DIR,\n",
    "        TRAIN_MASK_DIR,\n",
    "        VAL_IMG_DIR,\n",
    "        VAL_MASK_DIR,\n",
    "        BATCH_SIZE,\n",
    "        train_transform,\n",
    "        val_transforms,\n",
    "        NUM_WORKERS,\n",
    "        PIN_MEMORY,\n",
    "    )\n",
    "\n",
    "    if LOAD_MODEL:\n",
    "        load_checkpoint(torch.load(\"my_checkpoint.pth.tar\"), model)\n",
    "\n",
    "\n",
    "    # check_accuracy(val_loader, model, device=DEVICE)\n",
    "    scaler = torch.cuda.amp.GradScaler()\n",
    "\n",
    "    for epoch in range(NUM_EPOCHS):\n",
    "        train_fn(train_loader, model, optimizer, loss_fn, scaler)\n",
    "\n",
    "        # save model\n",
    "        checkpoint = {\n",
    "            \"state_dict\": model.state_dict(),\n",
    "            \"optimizer\":optimizer.state_dict(),\n",
    "        }\n",
    "        save_checkpoint(checkpoint)\n",
    "\n",
    "        # check accuracy\n",
    "        check_accuracy(val_loader, model, device=DEVICE)\n",
    "\n",
    "        # print some examples to a folder\n",
    "        save_predictions_as_imgs(\n",
    "            val_loader, model, folder=\"saved_images/\", device=DEVICE\n",
    "        )\n",
    "\n",
    "\n",
    "if __name__ == \"__main__\":\n",
    "    main()"
   ]
  },
  {
   "cell_type": "markdown",
   "id": "0004c22f",
   "metadata": {},
   "source": [
    "Accuracy achieved is **98.97%** and Dice Coefficient of **97.54%**"
   ]
  },
  {
   "cell_type": "markdown",
   "id": "00a356a1",
   "metadata": {},
   "source": [
    "# Training the model for another 10 epochs"
   ]
  },
  {
   "cell_type": "code",
   "execution_count": 15,
   "id": "fd551237",
   "metadata": {
    "execution": {
     "iopub.execute_input": "2023-08-13T13:04:03.524231Z",
     "iopub.status.busy": "2023-08-13T13:04:03.523839Z",
     "iopub.status.idle": "2023-08-13T13:04:03.533872Z",
     "shell.execute_reply": "2023-08-13T13:04:03.532899Z"
    },
    "papermill": {
     "duration": 0.224239,
     "end_time": "2023-08-13T13:04:03.535906",
     "exception": false,
     "start_time": "2023-08-13T13:04:03.311667",
     "status": "completed"
    },
    "tags": []
   },
   "outputs": [],
   "source": [
    "# Hyperparameters\n",
    "LEARNING_RATE = 1e-4\n",
    "DEVICE = \"cuda\" if torch.cuda.is_available() else \"cpu\"\n",
    "BATCH_SIZE = 16\n",
    "NUM_EPOCHS = 10\n",
    "NUM_WORKERS = 1\n",
    "IMAGE_HEIGHT = 320\n",
    "IMAGE_WIDTH = 480\n",
    "PIN_MEMORY = True\n",
    "LOAD_MODEL = True\n",
    "TRAIN_IMG_DIR = '/kaggle/working/train'\n",
    "TRAIN_MASK_DIR = '/kaggle/working/train_masks'\n",
    "VAL_IMG_DIR = '/kaggle/working/val'\n",
    "VAL_MASK_DIR = '/kaggle/working/val_masks'"
   ]
  },
  {
   "cell_type": "code",
   "execution_count": 16,
   "id": "8e2a9902",
   "metadata": {
    "execution": {
     "iopub.execute_input": "2023-08-13T13:04:03.958963Z",
     "iopub.status.busy": "2023-08-13T13:04:03.958600Z",
     "iopub.status.idle": "2023-08-13T14:05:22.439153Z",
     "shell.execute_reply": "2023-08-13T14:05:22.437660Z"
    },
    "papermill": {
     "duration": 3678.703072,
     "end_time": "2023-08-13T14:05:22.449284",
     "exception": false,
     "start_time": "2023-08-13T13:04:03.746212",
     "status": "completed"
    },
    "tags": []
   },
   "outputs": [
    {
     "name": "stdout",
     "output_type": "stream",
     "text": [
      "=> Loading Checkpoint\n",
      "Got 231061903/233472000 with acc 98.97\n",
      "Dice Score: 0.9754025340080261\n"
     ]
    },
    {
     "name": "stderr",
     "output_type": "stream",
     "text": [
      "100%|██████████| 223/223 [03:27<00:00,  1.07it/s, loss=0.0564]\n"
     ]
    },
    {
     "name": "stdout",
     "output_type": "stream",
     "text": [
      "=> Saving Checkpoint\n",
      "Got 231270768/233472000 with acc 99.06\n",
      "Dice Score: 0.9775727391242981\n"
     ]
    },
    {
     "name": "stderr",
     "output_type": "stream",
     "text": [
      "100%|██████████| 223/223 [03:23<00:00,  1.10it/s, loss=0.0225]\n"
     ]
    },
    {
     "name": "stdout",
     "output_type": "stream",
     "text": [
      "=> Saving Checkpoint\n",
      "Got 231437014/233472000 with acc 99.13\n",
      "Dice Score: 0.9789367318153381\n"
     ]
    },
    {
     "name": "stderr",
     "output_type": "stream",
     "text": [
      "100%|██████████| 223/223 [03:22<00:00,  1.10it/s, loss=0.0305]\n"
     ]
    },
    {
     "name": "stdout",
     "output_type": "stream",
     "text": [
      "=> Saving Checkpoint\n",
      "Got 231357626/233472000 with acc 99.09\n",
      "Dice Score: 0.9783735275268555\n"
     ]
    },
    {
     "name": "stderr",
     "output_type": "stream",
     "text": [
      "100%|██████████| 223/223 [03:20<00:00,  1.11it/s, loss=0.0167]\n"
     ]
    },
    {
     "name": "stdout",
     "output_type": "stream",
     "text": [
      "=> Saving Checkpoint\n",
      "Got 231824464/233472000 with acc 99.29\n",
      "Dice Score: 0.9830468893051147\n"
     ]
    },
    {
     "name": "stderr",
     "output_type": "stream",
     "text": [
      "100%|██████████| 223/223 [03:20<00:00,  1.11it/s, loss=0.0154]\n"
     ]
    },
    {
     "name": "stdout",
     "output_type": "stream",
     "text": [
      "=> Saving Checkpoint\n",
      "Got 231897987/233472000 with acc 99.33\n",
      "Dice Score: 0.983819305896759\n"
     ]
    },
    {
     "name": "stderr",
     "output_type": "stream",
     "text": [
      "100%|██████████| 223/223 [03:19<00:00,  1.12it/s, loss=0.0145]\n"
     ]
    },
    {
     "name": "stdout",
     "output_type": "stream",
     "text": [
      "=> Saving Checkpoint\n",
      "Got 232119420/233472000 with acc 99.42\n",
      "Dice Score: 0.9860567450523376\n"
     ]
    },
    {
     "name": "stderr",
     "output_type": "stream",
     "text": [
      "100%|██████████| 223/223 [03:20<00:00,  1.11it/s, loss=0.016]\n"
     ]
    },
    {
     "name": "stdout",
     "output_type": "stream",
     "text": [
      "=> Saving Checkpoint\n",
      "Got 232147363/233472000 with acc 99.43\n",
      "Dice Score: 0.9863324165344238\n"
     ]
    },
    {
     "name": "stderr",
     "output_type": "stream",
     "text": [
      "100%|██████████| 223/223 [03:17<00:00,  1.13it/s, loss=0.0156]\n"
     ]
    },
    {
     "name": "stdout",
     "output_type": "stream",
     "text": [
      "=> Saving Checkpoint\n",
      "Got 232351284/233472000 with acc 99.52\n",
      "Dice Score: 0.9883544445037842\n"
     ]
    },
    {
     "name": "stderr",
     "output_type": "stream",
     "text": [
      "100%|██████████| 223/223 [03:17<00:00,  1.13it/s, loss=0.0166]\n"
     ]
    },
    {
     "name": "stdout",
     "output_type": "stream",
     "text": [
      "=> Saving Checkpoint\n",
      "Got 231444369/233472000 with acc 99.13\n",
      "Dice Score: 0.9791768789291382\n"
     ]
    },
    {
     "name": "stderr",
     "output_type": "stream",
     "text": [
      "100%|██████████| 223/223 [03:18<00:00,  1.12it/s, loss=0.0148]\n"
     ]
    },
    {
     "name": "stdout",
     "output_type": "stream",
     "text": [
      "=> Saving Checkpoint\n",
      "Got 232182358/233472000 with acc 99.45\n",
      "Dice Score: 0.9867129325866699\n"
     ]
    }
   ],
   "source": [
    "def train_fn(loader, model, optimizer, loss_fn, scaler):\n",
    "    loop = tqdm(loader)\n",
    "\n",
    "    for batch_idx, (data, targets) in enumerate(loop):\n",
    "        data = data.to(device=DEVICE)\n",
    "        targets = targets.float().unsqueeze(1).to(device=DEVICE)\n",
    "\n",
    "        # forward\n",
    "        with torch.cuda.amp.autocast():\n",
    "            predictions = model(data)\n",
    "            loss = loss_fn(predictions, targets)\n",
    "\n",
    "        # backward\n",
    "        optimizer.zero_grad()\n",
    "        scaler.scale(loss).backward()\n",
    "        scaler.step(optimizer)\n",
    "        scaler.update()\n",
    "\n",
    "        # update tqdm loop\n",
    "        loop.set_postfix(loss=loss.item())\n",
    "\n",
    "\n",
    "def main():\n",
    "    #applying augmentations\n",
    "    train_transform = A.Compose(\n",
    "        [\n",
    "            A.Resize(height=IMAGE_HEIGHT, width=IMAGE_WIDTH),\n",
    "            A.Rotate(limit=35, p=1.0),\n",
    "            A.HorizontalFlip(p=0.5),\n",
    "            A.VerticalFlip(p=0.1),\n",
    "            A.Normalize(\n",
    "                mean=[0.0, 0.0, 0.0],\n",
    "                std=[1.0, 1.0, 1.0],\n",
    "                max_pixel_value=255.0,\n",
    "            ),\n",
    "            ToTensorV2(),\n",
    "        ],\n",
    "    )\n",
    "\n",
    "    val_transforms = A.Compose(\n",
    "        [\n",
    "            A.Resize(height=IMAGE_HEIGHT, width=IMAGE_WIDTH),\n",
    "            A.Normalize(\n",
    "                mean=[0.0, 0.0, 0.0],\n",
    "                std=[1.0, 1.0, 1.0],\n",
    "                max_pixel_value=255.0,\n",
    "            ),\n",
    "            ToTensorV2(),\n",
    "        ],\n",
    "    )\n",
    "\n",
    "    model = UNET(in_channels=3, out_channels=1).to(DEVICE)\n",
    "    loss_fn = nn.BCEWithLogitsLoss()  #BCE loss\n",
    "    optimizer = optim.Adam(model.parameters(), lr=LEARNING_RATE)\n",
    "\n",
    "    train_loader, val_loader = get_loaders(\n",
    "        TRAIN_IMG_DIR,\n",
    "        TRAIN_MASK_DIR,\n",
    "        VAL_IMG_DIR,\n",
    "        VAL_MASK_DIR,\n",
    "        BATCH_SIZE,\n",
    "        train_transform,\n",
    "        val_transforms,\n",
    "        NUM_WORKERS,\n",
    "        PIN_MEMORY,\n",
    "    )\n",
    "\n",
    "    if LOAD_MODEL:\n",
    "        load_checkpoint(torch.load(\"my_checkpoint.pth.tar\"), model)\n",
    "\n",
    "\n",
    "    check_accuracy(val_loader, model, device=DEVICE)\n",
    "    scaler = torch.cuda.amp.GradScaler()\n",
    "\n",
    "    for epoch in range(NUM_EPOCHS):\n",
    "        train_fn(train_loader, model, optimizer, loss_fn, scaler)\n",
    "\n",
    "        # save model\n",
    "        checkpoint = {\n",
    "            \"state_dict\": model.state_dict(),\n",
    "            \"optimizer\":optimizer.state_dict(),\n",
    "        }\n",
    "        save_checkpoint(checkpoint)\n",
    "\n",
    "        # check accuracy\n",
    "        check_accuracy(val_loader, model, device=DEVICE)\n",
    "\n",
    "        # print some examples to a folder\n",
    "        save_predictions_as_imgs(\n",
    "            val_loader, model, folder=\"saved_images/\", device=DEVICE\n",
    "        )\n",
    "\n",
    "\n",
    "if __name__ == \"__main__\":\n",
    "    main()"
   ]
  },
  {
   "cell_type": "markdown",
   "id": "9e150bca",
   "metadata": {},
   "source": [
    "We can see that the model achieved Accuracy of **99.45** and Dice Coefficient of **98.67%**"
   ]
  }
 ],
 "metadata": {
  "kernelspec": {
   "display_name": "Python 3",
   "language": "python",
   "name": "python3"
  },
  "language_info": {
   "codemirror_mode": {
    "name": "ipython",
    "version": 3
   },
   "file_extension": ".py",
   "mimetype": "text/x-python",
   "name": "python",
   "nbconvert_exporter": "python",
   "pygments_lexer": "ipython3",
   "version": "3.10.12"
  },
  "papermill": {
   "default_parameters": {},
   "duration": 7525.080057,
   "end_time": "2023-08-13T14:05:28.688916",
   "environment_variables": {},
   "exception": null,
   "input_path": "__notebook__.ipynb",
   "output_path": "__notebook__.ipynb",
   "parameters": {},
   "start_time": "2023-08-13T12:00:03.608859",
   "version": "2.4.0"
  }
 },
 "nbformat": 4,
 "nbformat_minor": 5
}
